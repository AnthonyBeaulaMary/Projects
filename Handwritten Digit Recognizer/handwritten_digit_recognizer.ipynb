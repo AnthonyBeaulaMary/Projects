{
 "cells": [
  {
   "cell_type": "code",
   "execution_count": 27,
   "metadata": {},
   "outputs": [],
   "source": [
    "from __future__ import print_function  \n",
    "# for Python2 compatibility "
   ]
  },
  {
   "cell_type": "code",
   "execution_count": 28,
   "metadata": {},
   "outputs": [],
   "source": [
    "import numpy \n",
    "numpy.random.seed(1337)   # for experiment reproducibility "
   ]
  },
  {
   "cell_type": "code",
   "execution_count": 29,
   "metadata": {},
   "outputs": [],
   "source": [
    "import keras\n",
    "from keras.models import Sequential\n",
    "from keras.layers import Dense \n",
    "from keras.optimizers import SGD \n",
    "from keras.datasets import mnist"
   ]
  },
  {
   "cell_type": "code",
   "execution_count": 30,
   "metadata": {},
   "outputs": [],
   "source": [
    "num_classes = 10\n",
    "\n",
    "batch_size = 128     \n",
    "epochs = 20"
   ]
  },
  {
   "cell_type": "code",
   "execution_count": 31,
   "metadata": {},
   "outputs": [],
   "source": [
    "# the data, shuffled and split between train and test sets\n",
    "(x_train, y_train), (x_test, y_test) = mnist.load_data()"
   ]
  },
  {
   "cell_type": "code",
   "execution_count": 32,
   "metadata": {},
   "outputs": [
    {
     "name": "stdout",
     "output_type": "stream",
     "text": [
      "(60000, 28, 28) (60000,) (10000, 28, 28) (10000,)\n"
     ]
    }
   ],
   "source": [
    "print(x_train.shape, y_train.shape, x_test.shape, y_test.shape)"
   ]
  },
  {
   "cell_type": "code",
   "execution_count": 33,
   "metadata": {},
   "outputs": [
    {
     "name": "stdout",
     "output_type": "stream",
     "text": [
      "60000 train samples\n",
      "10000 test samples\n"
     ]
    }
   ],
   "source": [
    "x_train = x_train.reshape(60000, 784)  # 28x28 = 784\n",
    "x_test = x_test.reshape(10000, 784)\n",
    "\n",
    "x_train = x_train.astype('float32') \n",
    "x_test = x_test.astype('float32') \n",
    "\n",
    "x_train /= 255  # 0 - 255 ...  0-1 \n",
    "x_test /= 255   # normalizing your data \n",
    "\n",
    "\n",
    "print(x_train.shape[0], 'train samples')\n",
    "print(x_test.shape[0], 'test samples')"
   ]
  },
  {
   "cell_type": "code",
   "execution_count": 34,
   "metadata": {},
   "outputs": [
    {
     "name": "stdout",
     "output_type": "stream",
     "text": [
      "(60000, 784)\n",
      "(60000,)\n"
     ]
    }
   ],
   "source": [
    "print(x_train.shape)\n",
    "print(y_train.shape)"
   ]
  },
  {
   "cell_type": "code",
   "execution_count": 35,
   "metadata": {},
   "outputs": [
    {
     "data": {
      "text/plain": [
       "5"
      ]
     },
     "execution_count": 35,
     "metadata": {},
     "output_type": "execute_result"
    }
   ],
   "source": [
    "y_train[0]"
   ]
  },
  {
   "cell_type": "code",
   "execution_count": 36,
   "metadata": {},
   "outputs": [],
   "source": [
    "# convert class vectors to binary class matrices\n",
    "y_train = keras.utils.to_categorical(y_train, num_classes)\n",
    "y_test = keras.utils.to_categorical(y_test, num_classes)"
   ]
  },
  {
   "cell_type": "code",
   "execution_count": 38,
   "metadata": {},
   "outputs": [
    {
     "name": "stdout",
     "output_type": "stream",
     "text": [
      "(10000, 10)\n",
      "(60000, 10)\n"
     ]
    }
   ],
   "source": [
    "y_train[0]\n",
    "print(y_test.shape)\n",
    "print(y_train.shape)"
   ]
  },
  {
   "cell_type": "markdown",
   "metadata": {},
   "source": [
    "That's called a one-hot vector. "
   ]
  },
  {
   "cell_type": "code",
   "execution_count": 19,
   "metadata": {},
   "outputs": [],
   "source": [
    "model = Sequential()"
   ]
  },
  {
   "cell_type": "code",
   "execution_count": 20,
   "metadata": {},
   "outputs": [],
   "source": [
    "model.add( Dense(512, activation='sigmoid', input_shape=(784,)  ) )\n",
    "model.add( Dense(512, activation='sigmoid'  ) )\n",
    "model.add( Dense(num_classes, activation='softmax'))"
   ]
  },
  {
   "cell_type": "code",
   "execution_count": 21,
   "metadata": {},
   "outputs": [
    {
     "name": "stdout",
     "output_type": "stream",
     "text": [
      "Model: \"sequential\"\n",
      "_________________________________________________________________\n",
      "Layer (type)                 Output Shape              Param #   \n",
      "=================================================================\n",
      "dense (Dense)                (None, 512)               401920    \n",
      "_________________________________________________________________\n",
      "dense_1 (Dense)              (None, 512)               262656    \n",
      "_________________________________________________________________\n",
      "dense_2 (Dense)              (None, 10)                5130      \n",
      "=================================================================\n",
      "Total params: 669,706\n",
      "Trainable params: 669,706\n",
      "Non-trainable params: 0\n",
      "_________________________________________________________________\n"
     ]
    }
   ],
   "source": [
    "# What does the model look like? \n",
    "model.summary()"
   ]
  },
  {
   "cell_type": "code",
   "execution_count": 22,
   "metadata": {},
   "outputs": [],
   "source": [
    "# Compile the model \n",
    "model.compile(loss='categorical_crossentropy', optimizer=SGD(), \n",
    "              metrics=['accuracy'])"
   ]
  },
  {
   "cell_type": "code",
   "execution_count": 23,
   "metadata": {},
   "outputs": [
    {
     "name": "stdout",
     "output_type": "stream",
     "text": [
      "Epoch 1/20\n",
      "469/469 [==============================] - 9s 19ms/step - loss: 2.2677 - accuracy: 0.2007 - val_loss: 2.2247 - val_accuracy: 0.1399\n",
      "Epoch 2/20\n",
      "469/469 [==============================] - 9s 19ms/step - loss: 2.1836 - accuracy: 0.4001 - val_loss: 2.1318 - val_accuracy: 0.4922\n",
      "Epoch 3/20\n",
      "469/469 [==============================] - 9s 18ms/step - loss: 2.0730 - accuracy: 0.5352 - val_loss: 1.9949 - val_accuracy: 0.5510\n",
      "Epoch 4/20\n",
      "469/469 [==============================] - 9s 18ms/step - loss: 1.9106 - accuracy: 0.6075 - val_loss: 1.7996 - val_accuracy: 0.6154\n",
      "Epoch 5/20\n",
      "469/469 [==============================] - 9s 18ms/step - loss: 1.6893 - accuracy: 0.6627 - val_loss: 1.5506 - val_accuracy: 0.6848\n",
      "Epoch 6/20\n",
      "469/469 [==============================] - 8s 18ms/step - loss: 1.4441 - accuracy: 0.7024 - val_loss: 1.3133 - val_accuracy: 0.7273\n",
      "Epoch 7/20\n",
      "469/469 [==============================] - 8s 18ms/step - loss: 1.2256 - accuracy: 0.7431 - val_loss: 1.1161 - val_accuracy: 0.7599\n",
      "Epoch 8/20\n",
      "469/469 [==============================] - 9s 18ms/step - loss: 1.0526 - accuracy: 0.7721 - val_loss: 0.9645 - val_accuracy: 0.7858\n",
      "Epoch 9/20\n",
      "469/469 [==============================] - 9s 19ms/step - loss: 0.9212 - accuracy: 0.7925 - val_loss: 0.8505 - val_accuracy: 0.8142y\n",
      "Epoch 10/20\n",
      "469/469 [==============================] - 8s 18ms/step - loss: 0.8215 - accuracy: 0.8078 - val_loss: 0.7634 - val_accuracy: 0.8265\n",
      "Epoch 11/20\n",
      "469/469 [==============================] - 8s 18ms/step - loss: 0.7447 - accuracy: 0.8219 - val_loss: 0.6979 - val_accuracy: 0.8281\n",
      "Epoch 12/20\n",
      "469/469 [==============================] - 8s 18ms/step - loss: 0.6844 - accuracy: 0.8318 - val_loss: 0.6428 - val_accuracy: 0.8421\n",
      "Epoch 13/20\n",
      "469/469 [==============================] - 9s 19ms/step - loss: 0.6365 - accuracy: 0.8411 - val_loss: 0.6006 - val_accuracy: 0.8483\n",
      "Epoch 14/20\n",
      "469/469 [==============================] - 9s 19ms/step - loss: 0.5976 - accuracy: 0.8481 - val_loss: 0.5649 - val_accuracy: 0.8571\n",
      "Epoch 15/20\n",
      "469/469 [==============================] - 9s 18ms/step - loss: 0.5658 - accuracy: 0.8546 - val_loss: 0.5358 - val_accuracy: 0.8614\n",
      "Epoch 16/20\n",
      "469/469 [==============================] - 8s 18ms/step - loss: 0.5390 - accuracy: 0.8602 - val_loss: 0.5112 - val_accuracy: 0.8658\n",
      "Epoch 17/20\n",
      "469/469 [==============================] - 9s 19ms/step - loss: 0.5166 - accuracy: 0.8641 - val_loss: 0.4908 - val_accuracy: 0.8677\n",
      "Epoch 18/20\n",
      "469/469 [==============================] - 8s 17ms/step - loss: 0.4973 - accuracy: 0.8681 - val_loss: 0.4725 - val_accuracy: 0.8726\n",
      "Epoch 19/20\n",
      "469/469 [==============================] - 9s 18ms/step - loss: 0.4807 - accuracy: 0.8717 - val_loss: 0.4581 - val_accuracy: 0.8751\n",
      "Epoch 20/20\n",
      "469/469 [==============================] - 9s 18ms/step - loss: 0.4662 - accuracy: 0.8750 - val_loss: 0.4430 - val_accuracy: 0.8798\n"
     ]
    }
   ],
   "source": [
    "# let's perform the learning \n",
    "history = model.fit( x_train, y_train, \n",
    "           batch_size=batch_size,\n",
    "           epochs=epochs, \n",
    "           verbose=1, \n",
    "           validation_data=(x_test, y_test))"
   ]
  },
  {
   "cell_type": "code",
   "execution_count": 24,
   "metadata": {},
   "outputs": [
    {
     "name": "stdout",
     "output_type": "stream",
     "text": [
      "313/313 [==============================] - 2s 6ms/step - loss: 0.4430 - accuracy: 0.8798\n"
     ]
    }
   ],
   "source": [
    "# Let's evaluate the model \n",
    "score = model.evaluate(x_test, y_test)"
   ]
  },
  {
   "cell_type": "markdown",
   "metadata": {
    "collapsed": true
   },
   "source": [
    "See some great results here: http://rodrigob.github.io/are_we_there_yet/build/classification_datasets_results.html#4d4e495354 "
   ]
  },
  {
   "cell_type": "code",
   "execution_count": 25,
   "metadata": {},
   "outputs": [
    {
     "data": {
      "text/plain": [
       "0.879800021648407"
      ]
     },
     "execution_count": 25,
     "metadata": {},
     "output_type": "execute_result"
    }
   ],
   "source": [
    "score[1]"
   ]
  }
 ],
 "metadata": {
  "kernelspec": {
   "display_name": "Python 3",
   "language": "python",
   "name": "python3"
  },
  "language_info": {
   "codemirror_mode": {
    "name": "ipython",
    "version": 3
   },
   "file_extension": ".py",
   "mimetype": "text/x-python",
   "name": "python",
   "nbconvert_exporter": "python",
   "pygments_lexer": "ipython3",
   "version": "3.6.8"
  }
 },
 "nbformat": 4,
 "nbformat_minor": 2
}
